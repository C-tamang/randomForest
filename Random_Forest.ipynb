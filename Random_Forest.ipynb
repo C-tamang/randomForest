{
 "cells": [
  {
   "cell_type": "markdown",
   "id": "717dd637",
   "metadata": {},
   "source": [
    "# Random Forest : White Wine Quality\n",
    "I worked with the white wine quality dataset from the UCI Machine Learning Repository in this project. Although the dataset already has wine quality values, I still used various features from the dataset to predict the quality of the wine. I ran the random forest algorithm, predicted the wine quality, and compared as well as visualized the model performance.\n",
    "###### Dataset:\n",
    " - **winequality-white**: columns names \n",
    "   - fixed acidity\n",
    "   - volatile acidity\n",
    "   - citric acid\n",
    "   - residual sugar'\n",
    "   - chlorides\n",
    "   - free sulfur dioxide\n",
    "   - total sulfur dioxide\n",
    "   - density\n",
    "   - pH\n",
    "   - sulphates\n",
    "   - alcohol\n",
    "   - quality"
   ]
  },
  {
   "cell_type": "markdown",
   "id": "8d8ac064",
   "metadata": {},
   "source": [
    "### Modules"
   ]
  },
  {
   "cell_type": "code",
   "execution_count": 1,
   "id": "c05eb8b0",
   "metadata": {},
   "outputs": [],
   "source": [
    "import pandas as pd\n",
    "import seaborn as sns\n",
    "from sklearn.metrics import confusion_matrix\n",
    "from sklearn.model_selection import GridSearchCV\n",
    "from sklearn.ensemble import RandomForestClassifier\n",
    "from sklearn.model_selection import train_test_split\n",
    "from sklearn.metrics import f1_score, accuracy_score, precision_score, recall_score"
   ]
  },
  {
   "cell_type": "markdown",
   "id": "3f85aefc",
   "metadata": {},
   "source": [
    "### Load Data"
   ]
  },
  {
   "cell_type": "code",
   "execution_count": 2,
   "id": "b5496341",
   "metadata": {
    "scrolled": true
   },
   "outputs": [
    {
     "data": {
      "text/html": [
       "<div>\n",
       "<style scoped>\n",
       "    .dataframe tbody tr th:only-of-type {\n",
       "        vertical-align: middle;\n",
       "    }\n",
       "\n",
       "    .dataframe tbody tr th {\n",
       "        vertical-align: top;\n",
       "    }\n",
       "\n",
       "    .dataframe thead th {\n",
       "        text-align: right;\n",
       "    }\n",
       "</style>\n",
       "<table border=\"1\" class=\"dataframe\">\n",
       "  <thead>\n",
       "    <tr style=\"text-align: right;\">\n",
       "      <th></th>\n",
       "      <th>fixed acidity</th>\n",
       "      <th>volatile acidity</th>\n",
       "      <th>citric acid</th>\n",
       "      <th>residual sugar</th>\n",
       "      <th>chlorides</th>\n",
       "      <th>free sulfur dioxide</th>\n",
       "      <th>total sulfur dioxide</th>\n",
       "      <th>density</th>\n",
       "      <th>pH</th>\n",
       "      <th>sulphates</th>\n",
       "      <th>alcohol</th>\n",
       "      <th>quality</th>\n",
       "    </tr>\n",
       "  </thead>\n",
       "  <tbody>\n",
       "    <tr>\n",
       "      <th>0</th>\n",
       "      <td>7.0</td>\n",
       "      <td>0.27</td>\n",
       "      <td>0.36</td>\n",
       "      <td>20.7</td>\n",
       "      <td>0.045</td>\n",
       "      <td>45.0</td>\n",
       "      <td>170.0</td>\n",
       "      <td>1.0010</td>\n",
       "      <td>3.00</td>\n",
       "      <td>0.45</td>\n",
       "      <td>8.8</td>\n",
       "      <td>6</td>\n",
       "    </tr>\n",
       "    <tr>\n",
       "      <th>1</th>\n",
       "      <td>6.3</td>\n",
       "      <td>0.30</td>\n",
       "      <td>0.34</td>\n",
       "      <td>1.6</td>\n",
       "      <td>0.049</td>\n",
       "      <td>14.0</td>\n",
       "      <td>132.0</td>\n",
       "      <td>0.9940</td>\n",
       "      <td>3.30</td>\n",
       "      <td>0.49</td>\n",
       "      <td>9.5</td>\n",
       "      <td>6</td>\n",
       "    </tr>\n",
       "    <tr>\n",
       "      <th>2</th>\n",
       "      <td>8.1</td>\n",
       "      <td>0.28</td>\n",
       "      <td>0.40</td>\n",
       "      <td>6.9</td>\n",
       "      <td>0.050</td>\n",
       "      <td>30.0</td>\n",
       "      <td>97.0</td>\n",
       "      <td>0.9951</td>\n",
       "      <td>3.26</td>\n",
       "      <td>0.44</td>\n",
       "      <td>10.1</td>\n",
       "      <td>6</td>\n",
       "    </tr>\n",
       "    <tr>\n",
       "      <th>3</th>\n",
       "      <td>7.2</td>\n",
       "      <td>0.23</td>\n",
       "      <td>0.32</td>\n",
       "      <td>8.5</td>\n",
       "      <td>0.058</td>\n",
       "      <td>47.0</td>\n",
       "      <td>186.0</td>\n",
       "      <td>0.9956</td>\n",
       "      <td>3.19</td>\n",
       "      <td>0.40</td>\n",
       "      <td>9.9</td>\n",
       "      <td>6</td>\n",
       "    </tr>\n",
       "    <tr>\n",
       "      <th>4</th>\n",
       "      <td>7.2</td>\n",
       "      <td>0.23</td>\n",
       "      <td>0.32</td>\n",
       "      <td>8.5</td>\n",
       "      <td>0.058</td>\n",
       "      <td>47.0</td>\n",
       "      <td>186.0</td>\n",
       "      <td>0.9956</td>\n",
       "      <td>3.19</td>\n",
       "      <td>0.40</td>\n",
       "      <td>9.9</td>\n",
       "      <td>6</td>\n",
       "    </tr>\n",
       "  </tbody>\n",
       "</table>\n",
       "</div>"
      ],
      "text/plain": [
       "   fixed acidity  volatile acidity  citric acid  residual sugar  chlorides  \\\n",
       "0            7.0              0.27         0.36            20.7      0.045   \n",
       "1            6.3              0.30         0.34             1.6      0.049   \n",
       "2            8.1              0.28         0.40             6.9      0.050   \n",
       "3            7.2              0.23         0.32             8.5      0.058   \n",
       "4            7.2              0.23         0.32             8.5      0.058   \n",
       "\n",
       "   free sulfur dioxide  total sulfur dioxide  density    pH  sulphates  \\\n",
       "0                 45.0                 170.0   1.0010  3.00       0.45   \n",
       "1                 14.0                 132.0   0.9940  3.30       0.49   \n",
       "2                 30.0                  97.0   0.9951  3.26       0.44   \n",
       "3                 47.0                 186.0   0.9956  3.19       0.40   \n",
       "4                 47.0                 186.0   0.9956  3.19       0.40   \n",
       "\n",
       "   alcohol  quality  \n",
       "0      8.8        6  \n",
       "1      9.5        6  \n",
       "2     10.1        6  \n",
       "3      9.9        6  \n",
       "4      9.9        6  "
      ]
     },
     "execution_count": 2,
     "metadata": {},
     "output_type": "execute_result"
    }
   ],
   "source": [
    "# Reading the csv file\n",
    "df = pd.read_csv('winequality-white.csv', delimiter=';')\n",
    "\n",
    "# Printing the first five rows\n",
    "df.head()"
   ]
  },
  {
   "cell_type": "markdown",
   "id": "f1984b62",
   "metadata": {},
   "source": [
    "### Build and Run Model"
   ]
  },
  {
   "cell_type": "code",
   "execution_count": 3,
   "id": "2660df5f",
   "metadata": {},
   "outputs": [
    {
     "name": "stderr",
     "output_type": "stream",
     "text": [
      "/Users/chandratamang/opt/anaconda3/lib/python3.9/site-packages/sklearn/model_selection/_split.py:666: UserWarning: The least populated class in y has only 4 members, which is less than n_splits=5.\n",
      "  warnings.warn((\"The least populated class in y has only %d\"\n"
     ]
    }
   ],
   "source": [
    "# Model\n",
    "model = RandomForestClassifier()\n",
    "\n",
    "# Features for training and testing data\n",
    "features = ['fixed acidity', 'volatile acidity', 'citric acid', \n",
    "                 'residual sugar', 'chlorides', 'free sulfur dioxide', \n",
    "                 'total sulfur dioxide', 'density','pH', 'sulphates', 'alcohol']\n",
    "\n",
    "# Predicting the quality\n",
    "outcome = 'quality'\n",
    "\n",
    "# Splitting data, 70% for training and 30% for tetsing\n",
    "X_train, X_test, y_train, y_test = train_test_split(df[features], df[outcome], test_size=.3)\n",
    "\n",
    "# Hyperparameters\n",
    "paramGrid = {'max_depth' : [1, 5, 10],\n",
    "            'max_features' : [1, 2, 3],\n",
    "            'n_estimators' : [100]}\n",
    "\n",
    "# Run random forest model and perform cross validation\n",
    "gridSearchCV = GridSearchCV(estimator=model, param_grid=paramGrid, cv=5)\n",
    "gridSearchCV.fit(X_train[features], y_train)\n",
    "\n",
    "# Created new data frame for tested data and predicted values\n",
    "results = pd.DataFrame({'quality' : y_test,\n",
    "                        'fixed acidity' : X_test['fixed acidity'],\n",
    "                        'volatile acidity' : X_test['volatile acidity'],\n",
    "                        'citric acid' : X_test['citric acid'],\n",
    "                        'residual sugar' : X_test['residual sugar'],\n",
    "                        'chlorides' : X_test['chlorides'],\n",
    "                        'free sulfur dioxide' : X_test['free sulfur dioxide'],\n",
    "                        'total sulfur dioxide' : X_test['total sulfur dioxide'],\n",
    "                        'density' : X_test['density'], \n",
    "                        'pH' : X_test['pH'],\n",
    "                        'sulphates' : X_test['sulphates'],\n",
    "                        'alcohol' : X_test['alcohol'],\n",
    "                       'prediction' : gridSearchCV.predict(X_test)})"
   ]
  },
  {
   "cell_type": "code",
   "execution_count": 4,
   "id": "88b01d0f",
   "metadata": {},
   "outputs": [
    {
     "data": {
      "text/html": [
       "<div>\n",
       "<style scoped>\n",
       "    .dataframe tbody tr th:only-of-type {\n",
       "        vertical-align: middle;\n",
       "    }\n",
       "\n",
       "    .dataframe tbody tr th {\n",
       "        vertical-align: top;\n",
       "    }\n",
       "\n",
       "    .dataframe thead th {\n",
       "        text-align: right;\n",
       "    }\n",
       "</style>\n",
       "<table border=\"1\" class=\"dataframe\">\n",
       "  <thead>\n",
       "    <tr style=\"text-align: right;\">\n",
       "      <th></th>\n",
       "      <th>quality</th>\n",
       "      <th>fixed acidity</th>\n",
       "      <th>volatile acidity</th>\n",
       "      <th>citric acid</th>\n",
       "      <th>residual sugar</th>\n",
       "      <th>chlorides</th>\n",
       "      <th>free sulfur dioxide</th>\n",
       "      <th>total sulfur dioxide</th>\n",
       "      <th>density</th>\n",
       "      <th>pH</th>\n",
       "      <th>sulphates</th>\n",
       "      <th>alcohol</th>\n",
       "      <th>prediction</th>\n",
       "    </tr>\n",
       "  </thead>\n",
       "  <tbody>\n",
       "    <tr>\n",
       "      <th>2150</th>\n",
       "      <td>6</td>\n",
       "      <td>7.0</td>\n",
       "      <td>0.240</td>\n",
       "      <td>0.34</td>\n",
       "      <td>3.00</td>\n",
       "      <td>0.035</td>\n",
       "      <td>36.0</td>\n",
       "      <td>102.0</td>\n",
       "      <td>0.99050</td>\n",
       "      <td>3.18</td>\n",
       "      <td>0.43</td>\n",
       "      <td>12.2</td>\n",
       "      <td>6</td>\n",
       "    </tr>\n",
       "    <tr>\n",
       "      <th>3457</th>\n",
       "      <td>7</td>\n",
       "      <td>6.1</td>\n",
       "      <td>0.105</td>\n",
       "      <td>0.31</td>\n",
       "      <td>1.30</td>\n",
       "      <td>0.037</td>\n",
       "      <td>55.0</td>\n",
       "      <td>145.0</td>\n",
       "      <td>0.99120</td>\n",
       "      <td>3.41</td>\n",
       "      <td>0.41</td>\n",
       "      <td>11.1</td>\n",
       "      <td>7</td>\n",
       "    </tr>\n",
       "    <tr>\n",
       "      <th>1357</th>\n",
       "      <td>6</td>\n",
       "      <td>6.3</td>\n",
       "      <td>0.290</td>\n",
       "      <td>0.40</td>\n",
       "      <td>6.50</td>\n",
       "      <td>0.039</td>\n",
       "      <td>43.0</td>\n",
       "      <td>167.0</td>\n",
       "      <td>0.99530</td>\n",
       "      <td>3.15</td>\n",
       "      <td>0.44</td>\n",
       "      <td>9.3</td>\n",
       "      <td>5</td>\n",
       "    </tr>\n",
       "    <tr>\n",
       "      <th>3092</th>\n",
       "      <td>6</td>\n",
       "      <td>7.6</td>\n",
       "      <td>0.270</td>\n",
       "      <td>0.52</td>\n",
       "      <td>3.20</td>\n",
       "      <td>0.043</td>\n",
       "      <td>28.0</td>\n",
       "      <td>152.0</td>\n",
       "      <td>0.99129</td>\n",
       "      <td>3.02</td>\n",
       "      <td>0.53</td>\n",
       "      <td>11.4</td>\n",
       "      <td>6</td>\n",
       "    </tr>\n",
       "    <tr>\n",
       "      <th>3335</th>\n",
       "      <td>6</td>\n",
       "      <td>6.9</td>\n",
       "      <td>0.380</td>\n",
       "      <td>0.29</td>\n",
       "      <td>13.65</td>\n",
       "      <td>0.048</td>\n",
       "      <td>52.0</td>\n",
       "      <td>189.0</td>\n",
       "      <td>0.99784</td>\n",
       "      <td>3.00</td>\n",
       "      <td>0.60</td>\n",
       "      <td>9.5</td>\n",
       "      <td>5</td>\n",
       "    </tr>\n",
       "  </tbody>\n",
       "</table>\n",
       "</div>"
      ],
      "text/plain": [
       "      quality  fixed acidity  volatile acidity  citric acid  residual sugar  \\\n",
       "2150        6            7.0             0.240         0.34            3.00   \n",
       "3457        7            6.1             0.105         0.31            1.30   \n",
       "1357        6            6.3             0.290         0.40            6.50   \n",
       "3092        6            7.6             0.270         0.52            3.20   \n",
       "3335        6            6.9             0.380         0.29           13.65   \n",
       "\n",
       "      chlorides  free sulfur dioxide  total sulfur dioxide  density    pH  \\\n",
       "2150      0.035                 36.0                 102.0  0.99050  3.18   \n",
       "3457      0.037                 55.0                 145.0  0.99120  3.41   \n",
       "1357      0.039                 43.0                 167.0  0.99530  3.15   \n",
       "3092      0.043                 28.0                 152.0  0.99129  3.02   \n",
       "3335      0.048                 52.0                 189.0  0.99784  3.00   \n",
       "\n",
       "      sulphates  alcohol  prediction  \n",
       "2150       0.43     12.2           6  \n",
       "3457       0.41     11.1           7  \n",
       "1357       0.44      9.3           5  \n",
       "3092       0.53     11.4           6  \n",
       "3335       0.60      9.5           5  "
      ]
     },
     "execution_count": 4,
     "metadata": {},
     "output_type": "execute_result"
    }
   ],
   "source": [
    "# Printing first five rows of the new data frame\n",
    "results.head()"
   ]
  },
  {
   "cell_type": "markdown",
   "id": "c39d046d",
   "metadata": {},
   "source": [
    "### Model Performance and Visualization"
   ]
  },
  {
   "cell_type": "code",
   "execution_count": 5,
   "id": "1ff5a011",
   "metadata": {},
   "outputs": [
    {
     "name": "stdout",
     "output_type": "stream",
     "text": [
      "Accuracy: 0.6408163265306123\n",
      "Precision: 0.656478728189191\n",
      "Recall: 0.6408163265306123\n",
      "F1 Score: 0.6175360798474253\n"
     ]
    },
    {
     "name": "stderr",
     "output_type": "stream",
     "text": [
      "/Users/chandratamang/opt/anaconda3/lib/python3.9/site-packages/sklearn/metrics/_classification.py:1248: UndefinedMetricWarning: Precision is ill-defined and being set to 0.0 in labels with no predicted samples. Use `zero_division` parameter to control this behavior.\n",
      "  _warn_prf(average, modifier, msg_start, len(result))\n"
     ]
    }
   ],
   "source": [
    "# Accuracy\n",
    "accuracy = accuracy_score(results['quality'], results['prediction'])\n",
    "print(\"Accuracy:\", accuracy)\n",
    "\n",
    "# Precision\n",
    "precision = precision_score(results['quality'], results['prediction'], average='weighted')\n",
    "print('Precision:', precision)\n",
    "\n",
    "# Recall\n",
    "recall = recall_score(results['quality'], results['prediction'], average='weighted')\n",
    "print('Recall:', recall)\n",
    "\n",
    "# F1 Score\n",
    "score = f1_score(results['quality'], results['prediction'], average='weighted')\n",
    "print('F1 Score:', score)"
   ]
  },
  {
   "cell_type": "code",
   "execution_count": 6,
   "id": "f1ccfd7b",
   "metadata": {},
   "outputs": [
    {
     "data": {
      "text/plain": [
       "array([[  0,   0,   4,   3,   0,   0,   0],\n",
       "       [  0,   3,  28,  14,   0,   0,   0],\n",
       "       [  0,   3, 297, 151,   1,   0,   0],\n",
       "       [  0,   0,  99, 527,  26,   0,   0],\n",
       "       [  0,   0,   6, 146, 109,   0,   0],\n",
       "       [  0,   0,   0,  30,  16,   6,   0],\n",
       "       [  0,   0,   0,   1,   0,   0,   0]])"
      ]
     },
     "execution_count": 6,
     "metadata": {},
     "output_type": "execute_result"
    }
   ],
   "source": [
    "# Created confusion matrix for quality(y_test) and prediction\n",
    "confusionMatrix = confusion_matrix(results['quality'], results['prediction'])\n",
    "confusionMatrix"
   ]
  },
  {
   "cell_type": "code",
   "execution_count": 7,
   "id": "0aa126a8",
   "metadata": {},
   "outputs": [
    {
     "data": {
      "text/plain": [
       "Text(0.5, 1.0, 'Predicted quality vs Actual quality')"
      ]
     },
     "execution_count": 7,
     "metadata": {},
     "output_type": "execute_result"
    },
    {
     "data": {
      "image/png": "[encoded data removed]",
      "text/plain": [
       "<Figure size 1440x504 with 2 Axes>"
      ]
     },
     "metadata": {},
     "output_type": "display_data"
    }
   ],
   "source": [
    "# Change graph size\n",
    "sns.set(rc = {'figure.figsize':(20,7)})\n",
    "\n",
    "# Visualizing confusion matrix with seaborn - heat map\n",
    "heatMap = sns.heatmap(confusionMatrix, annot=True, cmap='nipy_spectral_r')\n",
    "\n",
    "# Set the x, y, and title to meaningful lables\n",
    "heatMap.set_xlabel('Predictions', fontsize = 20)\n",
    "heatMap.set_ylabel('Quality', fontsize = 20)\n",
    "heatMap.set_title('Predicted quality vs Actual quality', fontsize = 20)"
   ]
  },
  {
   "cell_type": "code",
   "execution_count": null,
   "id": "e6fc76e7",
   "metadata": {},
   "outputs": [],
   "source": []
  }
 ],
 "metadata": {
  "kernelspec": {
   "display_name": "Python 3 (ipykernel)",
   "language": "python",
   "name": "python3"
  },
  "language_info": {
   "codemirror_mode": {
    "name": "ipython",
    "version": 3
   },
   "file_extension": ".py",
   "mimetype": "text/x-python",
   "name": "python",
   "nbconvert_exporter": "python",
   "pygments_lexer": "ipython3",
   "version": "3.9.7"
  }
 },
 "nbformat": 4,
 "nbformat_minor": 5
}
